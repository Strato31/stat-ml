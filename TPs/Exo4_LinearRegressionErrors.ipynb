{
 "cells": [
  {
   "cell_type": "code",
   "execution_count": 1,
   "metadata": {},
   "outputs": [],
   "source": [
    "import numpy as np\n",
    "import matplotlib.pyplot as plt\n",
    "\n",
    "from sklearn.linear_model import LinearRegression"
   ]
  },
  {
   "cell_type": "markdown",
   "metadata": {},
   "source": [
    "\n",
    "## Exercice 4 : impact et detection d'outliers\n",
    "\n"
   ]
  },
  {
   "cell_type": "code",
   "execution_count": 32,
   "metadata": {},
   "outputs": [
    {
     "name": "stdout",
     "output_type": "stream",
     "text": [
      "b_0=5.170486407753312 et b_1=5.384680201305171\n"
     ]
    },
    {
     "data": {
      "image/png": "[encoded data removed]",
      "text/plain": [
       "<Figure size 640x480 with 1 Axes>"
      ]
     },
     "metadata": {},
     "output_type": "display_data"
    }
   ],
   "source": [
    "#generation de donnees test\n",
    "def generate_data(n_samples, outlier=False, b_1=4.):\n",
    "    x = np.arange(n_samples)\n",
    "    y = 10. + b_1*x + np.random.randn(n_samples)*3.\n",
    "    if outlier:\n",
    "        y[-1] += 20\n",
    "    return x, y\n",
    "\n",
    "def s2(y_true, y_pred):\n",
    "    n = len(y_true)\n",
    "    SSE = np.sum((y_true - y_pred)**2)\n",
    "    return SSE / (n-1)\n",
    "\n",
    "\n",
    "x, y = generate_data(n_samples=10, outlier=True)\n",
    "# instanciation de sklearn.linear_model.LinearRegression\n",
    "lr = LinearRegression()\n",
    "lr.fit(x[:, np.newaxis], y)  # np.newaxis est utilise car x doit etre une matrice 2d avec 'LinearRegression'\n",
    "\n",
    "# representation du resultat\n",
    "\n",
    "print('b_0='+str(lr.intercept_)+' et b_1='+str(lr.coef_[0]))\n",
    "\n",
    "fig = plt.figure()\n",
    "plt.plot(x, y, 'r.')\n",
    "plt.plot(x, lr.predict(x[:, np.newaxis]), 'b-')\n",
    "plt.legend(('Data', 'Linear Fit'), loc='lower right')\n",
    "plt.title('Linear regression')\n",
    "plt.show()"
   ]
  },
  {
   "cell_type": "markdown",
   "metadata": {},
   "source": [
    "\n",
    "### <span style=\"color:blue\">QUESTION 4.1 :</span> \n",
    "\n",
    "\n",
    "Remarquons que la ligne 'y[9]=y[9]+20' génere artificiellement une donnée aberrante.\n",
    "\n",
    "Tester l'impact de la donnée aberrante en estimant b_0, b_1 et s^2 sur \n",
    "- 5 jeux de données générés comme dans la cellule précédente et\n",
    "- 5 autres jeux aussi générés suivant cette méthode, mais sans la données aberrant (simplement ne pas executer la ligne y[9]=y[9]+20).\n",
    "\n",
    "On remarque que $\\beta_0 = 10$, $\\beta_1 = 4$ et $\\sigma=3$ dans les données simulees.\n"
   ]
  },
  {
   "cell_type": "markdown",
   "metadata": {},
   "source": [
    "### <span style=\"color:blue\">REPONSE 4.1 :</span> \n",
    "\n"
   ]
  },
  {
   "cell_type": "code",
   "execution_count": 33,
   "metadata": {},
   "outputs": [
    {
     "name": "stdout",
     "output_type": "stream",
     "text": [
      "s2 :  8.040936900648896\n",
      "s2 :  14.871205651511664\n",
      "s2 :  6.456678496323179\n",
      "s2 :  4.9243065256156475\n",
      "s2 :  7.218858719698343\n",
      "table des valeurs b0 | b1 sans outlier :\n",
      "8.127782722376175  |  4.132815163671599\n",
      "10.563778173095713  |  3.7621267901402162\n",
      "4.192151679777215  |  4.879749514137473\n",
      "12.045800373085306  |  3.9409692987590423\n",
      "10.69299575443247  |  4.0960642348064\n",
      "s2 :  36.15730854696457\n",
      "s2 :  35.307740036789674\n",
      "s2 :  35.3334273694976\n",
      "s2 :  57.58932940511285\n",
      "s2 :  36.83990041722504\n",
      "\n",
      "table des valeurs b0 | b1 avec outlier :\n",
      "8.821889215472595  |  5.133966338245519\n",
      "7.155579091498019  |  4.821548450336119\n",
      "4.652369394461548  |  5.53089510680013\n",
      "4.706761498953135  |  5.4855154091282285\n",
      "7.158209883504174  |  5.2757345675571745\n"
     ]
    }
   ],
   "source": [
    "b_bank = [[0,0],[0,0],[0,0],[0,0],[0,0]]\n",
    "for i in range(5):\n",
    "    #data sans outlier\n",
    "    x,y = generate_data(10, outlier=False)\n",
    "    lr = LinearRegression()\n",
    "    lr.fit(x[:, np.newaxis], y)\n",
    "    s_2 = s2(y, x*lr.coef_[0] + lr.intercept_)\n",
    "    print(\"s2 : \", s_2)\n",
    "    b_bank[i] = lr.intercept_, lr.coef_[0]\n",
    "    #fig = plt.figure()\n",
    "    #plt.plot(x, y, 'r.')\n",
    "    #plt.plot(x, lr.predict(x[:, np.newaxis]), 'b-')\n",
    "    #plt.legend(('Data', 'Linear Fit'), loc='lower right')\n",
    "    #plt.title('Linear regression')\n",
    "    #plt.show()\n",
    "\n",
    "print(\"table des valeurs b0 | b1 sans outlier :\")\n",
    "for i in range(5):\n",
    "    print(float(b_bank[i][0]), ' | ', float(b_bank[i][1]))\n",
    "\n",
    "b_bank2 = [[0,0],[0,0],[0,0],[0,0],[0,0]]\n",
    "for i in range(5):\n",
    "    #data avec outlier\n",
    "    x,y = generate_data(10, outlier=True)\n",
    "    lr = LinearRegression()\n",
    "    lr.fit(x[:, np.newaxis], y)\n",
    "    s_2 = s2(y, x*lr.coef_[0] + lr.intercept_)\n",
    "    print(\"s2 : \", s_2)\n",
    "    b_bank2[i] = lr.intercept_, lr.coef_[0]\n",
    "    #fig = plt.figure()\n",
    "    #plt.plot(x, y, 'r.')\n",
    "    #plt.plot(x, lr.predict(x[:, np.newaxis]), 'b-')\n",
    "    #plt.legend(('Data', 'Linear Fit'), loc='lower right')\n",
    "    #plt.title('Linear regression')\n",
    "    #plt.show()\n",
    "\n",
    "print(\"\\ntable des valeurs b0 | b1 avec outlier :\")\n",
    "for i in range(5):\n",
    "    print(float(b_bank2[i][0]), ' | ', float(b_bank2[i][1]))        "
   ]
  },
  {
   "cell_type": "markdown",
   "metadata": {},
   "source": [
    "La variance estimée du bruit est beaucoup plus grande avec une donnée aberrante.\n",
    "La donnée aberrante introiduit un biais dans l'estimation des statistiques b_0 et b_1."
   ]
  },
  {
   "cell_type": "markdown",
   "metadata": {},
   "source": [
    "\n",
    "### <span style=\"color:blue\">QUESTIONS 4.2 :</span> \n",
    "\n",
    "#### <span style=\"color:blue\">QUESTION 4.2.a :</span> \n",
    "Pour chaque variable i, calculez les profils des résidus $e_{(i)j}=y_j - \\hat{y_{(i)j}}$ pour tous les j, où  \\hat{y_{(i)j}} est l'estimation de y_j à partir d'un modele  linéaire appris sans l'observation i.\n",
    "#### <span style=\"color:blue\">QUESTION 4.2.b :</span> \n",
    "En quoi le profil des e_{(i)j} est différent pour i=9 que pour les autres i\n",
    "#### <span style=\"color:blue\">QUESTION 4.2.c :</span> \n",
    "Etendre ces calculs pour définir la distance de Cook de chaque variable i\n",
    "\n",
    "AIDE : pour enlever un élement 'i' de 'x' ou 'y', utiliser x_del_i=np.delete(x,i) et y_del_i=np.delete(y,i) \n"
   ]
  },
  {
   "cell_type": "code",
   "execution_count": 47,
   "metadata": {},
   "outputs": [],
   "source": [
    "x, y = generate_data(n_samples=10, outlier=True)"
   ]
  },
  {
   "cell_type": "markdown",
   "metadata": {},
   "source": [
    "#### <span style=\"color:blue\">REPONSE 4.2.a :</span> \n"
   ]
  },
  {
   "cell_type": "code",
   "execution_count": 48,
   "metadata": {},
   "outputs": [],
   "source": [
    "#4.2.a\n",
    "def profil_residus(x, y_vrai, i):\n",
    "    x_sans_i = np.delete(x,i)\n",
    "    y_sans_i = np.delete(y_vrai,i)\n",
    "    lr = LinearRegression()\n",
    "    lr.fit(x_sans_i[:, np.newaxis], y_sans_i)\n",
    "    coefs = [lr.intercept_, lr.coef_[0]]\n",
    "    errors_i = y_vrai - (coefs[0] + x*coefs[1])\n",
    "\n",
    "    return errors_i"
   ]
  },
  {
   "cell_type": "code",
   "execution_count": 49,
   "metadata": {},
   "outputs": [],
   "source": [
    "lr = LinearRegression()\n",
    "lr.fit(x[:, np.newaxis], y)\n",
    "reg_lin = lr.intercept_, lr.coef_[0]\n",
    "\n",
    "\n",
    "errors_matrix = np.zeros((len(x), len(x)))\n",
    "for i in range(len(x)):\n",
    "    errors_matrix[i] = profil_residus(x, y, i)"
   ]
  },
  {
   "cell_type": "markdown",
   "metadata": {},
   "source": [
    "#### <span style=\"color:blue\">REPONSE 4.2.b :</span> \n",
    "\n",
    "Le profil résiduel de la donnée aberrante est toujours plus grand que les autres, en particulier lorsqu'on ôte la donnée de la base d'apprentissage."
   ]
  },
  {
   "cell_type": "code",
   "execution_count": 50,
   "metadata": {},
   "outputs": [
    {
     "name": "stdout",
     "output_type": "stream",
     "text": [
      "0.4806297287229569\n",
      "0.36512917800781486\n",
      "0.2869980713996275\n",
      "-0.5219943192454715\n",
      "0.010670170762101172\n",
      "0.03625519945801212\n",
      "-0.7732700616840674\n",
      "-1.0182497454461044\n",
      "-0.5640461296858714\n",
      "2.3313058799777773\n"
     ]
    }
   ],
   "source": [
    "#4.2.b\n",
    "for i in range(len(errors_matrix)):\n",
    "    print(np.mean(errors_matrix[i]))\n",
    "#on observe la moyenne des résidus est bien plus élevée (d'un OdG) en ignorant i=9"
   ]
  },
  {
   "cell_type": "markdown",
   "metadata": {},
   "source": [
    "#### <span style=\"color:blue\">REPONSE 4.2.c :</span> \n"
   ]
  },
  {
   "cell_type": "code",
   "execution_count": null,
   "metadata": {},
   "outputs": [
    {
     "name": "stdout",
     "output_type": "stream",
     "text": [
      "[4.58743955 4.5362985  4.51586236 4.53799817 4.50001285 4.50014839\n",
      " 4.58338606 4.69967257 4.58662134 6.55724096]\n"
     ]
    }
   ],
   "source": [
    "#4.2.c\n",
    "def calculate_cook(errors_matrix):\n",
    "    D = np.zeros(len(errors_matrix))\n",
    "    for i in range(len(errors_matrix)):\n",
    "        D[i] = sum(errors_matrix[i]**2)/(2*s2(y,reg_lin[0] + reg_lin[1]*x))\n",
    "    return D\n",
    "\n",
    "print(calculate_cook(errors_matrix))\n",
    "#la distance de cook vaut environ 4.5 pour toutes les valeurs sauf en i=9 où elle vaut 6.5"
   ]
  },
  {
   "cell_type": "markdown",
   "metadata": {},
   "source": [
    "## Question Bonus"
   ]
  },
  {
   "cell_type": "markdown",
   "metadata": {},
   "source": [
    "Pour un jeu de données de 20 observations obtenues avec un coefficient directeur $\\beta_1$ de $0.2$, faire un test d'hypothèse pour vérifier que les données sont corrélées avec une confiance de 95%. "
   ]
  },
  {
   "cell_type": "markdown",
   "metadata": {},
   "source": [
    "On rappelle que sous les hypothèses suivantes : \n",
    " * $\\mathbb{E}[\\epsilon_i] = 0$,\n",
    " * $\\mathbb{V}[\\epsilon_i] = \\sigma^2$,\n",
    " * $\\forall i \\neq j, \\: Cov(\\epsilon_i, \\epsilon_j) = 0$,\n",
    " \n",
    "on a : \n",
    "\n",
    "* $\\mathbb{E}[\\hat{\\beta_0}] = \\beta_0$,\n",
    "* $\\mathbb{E}[\\hat{\\beta_1}] = \\beta_1$,\n",
    "* $\\mathbb{V}[\\hat{\\beta_0}] = \\sigma^2(\\frac{1}{n} + \\frac{\\bar{x_n}^2}{\\sum_{i=1}^n (x_i - \\bar{x_n})^2})$,\n",
    "* $\\mathbb{V}[\\hat{\\beta_1}] = \\frac{\\sigma^2}{\\sum_{i=1}^n (x_i - \\bar{x_n})^2}$\n",
    "\n",
    "En faisant l'hypothèse supplémentaire que les erreurs suivent une loi normale, $\\epsilon_i \\sim \\mathcal{N}(0, \\sigma^2)$, on a :\n",
    "\n",
    "* $\\hat{\\beta_1} \\sim \\mathcal{N}(\\beta_1, \\frac{\\sigma^2}{\\sum_{i=1}^n (x_i - \\bar{x_n})^2})$,\n",
    "* $\\frac{(n-2) \\cdot s^2}{\\sigma^2} \\sim \\mathcal{X}^2(n-2)$,\n",
    "* $\\hat{\\beta_1}$ et $s^2$ indépendants,\n",
    "\n",
    "où $s^2 = \\frac{\\sum_{i=1}^n \\hat{\\epsilon_i}^2}{n-2}$ est un estimateur non biaisé de $\\sigma^2$.\n",
    "\n",
    "On peut en déduire que:\n",
    "\n",
    "$$ \\frac{ \\frac{ \\hat{\\beta_1}-\\beta_1}{\\sqrt{\\frac{\\sigma^2}{\\sum_{i=1}^n (x_i - \\bar{x_n})^2}}}}{\\sqrt{\\frac{\\frac{(n-2)s^2}{\\sigma^2}}{n-2}}} = \\frac{\\hat{\\beta_1}-\\beta_1}{\\frac{s}{\\sqrt{\\sum_{i=1}^n (x_i - \\bar{x_n})^2}}} = T_n \\sim T(n-2)$$ \n",
    "\n",
    "où $T(n-2)$ désigne la loi de Student à $n-2$ degrés de liberté, d'espérance nulle si $n-2 > 1$.\n",
    "\n",
    "Tester l'hypothèse H_0 : $\\beta_1 = 0$ en prenant un risque de 5%. "
   ]
  },
  {
   "cell_type": "code",
   "execution_count": null,
   "metadata": {},
   "outputs": [],
   "source": [
    "from scipy.stats import t\n",
    "\n",
    "\n",
    "..."
   ]
  },
  {
   "cell_type": "code",
   "execution_count": null,
   "metadata": {},
   "outputs": [],
   "source": []
  },
  {
   "cell_type": "code",
   "execution_count": null,
   "metadata": {},
   "outputs": [],
   "source": []
  },
  {
   "cell_type": "code",
   "execution_count": null,
   "metadata": {},
   "outputs": [],
   "source": []
  }
 ],
 "metadata": {
  "anaconda-cloud": {},
  "kernelspec": {
   "display_name": "env_sdd_py313",
   "language": "python",
   "name": "python3"
  },
  "language_info": {
   "codemirror_mode": {
    "name": "ipython",
    "version": 3
   },
   "file_extension": ".py",
   "mimetype": "text/x-python",
   "name": "python",
   "nbconvert_exporter": "python",
   "pygments_lexer": "ipython3",
   "version": "3.13.7"
  }
 },
 "nbformat": 4,
 "nbformat_minor": 4
}
